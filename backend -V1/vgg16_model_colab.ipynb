{
  "nbformat": 4,
  "nbformat_minor": 0,
  "metadata": {
    "colab": {
      "name": "vgg16_model_colab.ipynb",
      "provenance": []
    },
    "kernelspec": {
      "name": "python3",
      "display_name": "Python 3"
    },
    "language_info": {
      "name": "python"
    }
  },
  "cells": [
    {
      "cell_type": "code",
      "metadata": {
        "colab": {
          "base_uri": "https://localhost:8080/"
        },
        "id": "HeP60zYlfs6v",
        "outputId": "d92284f8-bb70-4a01-81a1-6f328faceae5"
      },
      "source": [
        "from google.colab import drive\n",
        "drive.mount('/content/gdrive', force_remount=True)"
      ],
      "execution_count": null,
      "outputs": [
        {
          "output_type": "stream",
          "text": [
            "Mounted at /content/gdrive\n"
          ],
          "name": "stdout"
        }
      ]
    },
    {
      "cell_type": "code",
      "metadata": {
        "id": "W9Q_vpZAgStP"
      },
      "source": [
        "import os\n",
        "import keras\n",
        "from keras.preprocessing import image\n",
        "from keras.applications.imagenet_utils import decode_predictions, preprocess_input\n",
        "from keras.models import Model\n",
        "from sklearn.decomposition import PCA\n",
        "import numpy as np\n",
        "import matplotlib.pyplot as plt\n",
        "\n",
        "class FeatureExtractor:\n",
        "    def  __init__(self):\n",
        "        print(\"hello\")\n",
        "        self.model = keras.applications.VGG16(weights='imagenet', include_top=True)\n",
        "        self.feat_extractor = Model(inputs=self.model.input, outputs=self.model.get_layer(\"fc2\").output)\n",
        "        \n",
        "    def extract(self, image_path):\n",
        "        img = image.load_img(image_path, target_size=self.feat_extractor.input_shape[1:3])\n",
        "        x = image.img_to_array(img)\n",
        "        x = np.expand_dims(x, axis=0)\n",
        "        x = preprocess_input(x)\n",
        "        features = self.feat_extractor.predict(x)[0]   \n",
        "        return features\n",
        "    \n",
        "    def extract_pca_features(self, features):\n",
        "        features = np.array(features)    \n",
        "        pca = PCA(n_components=300)\n",
        "        pca.fit(features)\n",
        "        pca_features = pca.transform(features)\n",
        "        return pca_features,pca"
      ],
      "execution_count": null,
      "outputs": []
    },
    {
      "cell_type": "code",
      "metadata": {
        "colab": {
          "base_uri": "https://localhost:8080/"
        },
        "id": "Te_14JR6gaaH",
        "outputId": "19582316-b247-49db-f735-788396215400"
      },
      "source": [
        "%cd gdrive/MyDrive/sculptures/\n",
        "%cd ../"
      ],
      "execution_count": null,
      "outputs": [
        {
          "output_type": "stream",
          "text": [
            "/content/gdrive/MyDrive/sculptures\n",
            "/content/gdrive/MyDrive\n"
          ],
          "name": "stdout"
        }
      ]
    },
    {
      "cell_type": "code",
      "metadata": {
        "colab": {
          "base_uri": "https://localhost:8080/"
        },
        "id": "boezuqg3gArg",
        "outputId": "f1d5b099-23bc-449c-bc51-ce2fcf8a79d8"
      },
      "source": [
        "# import the necessary packages\n",
        "#from featuresextractor import FeatureExtractor\n",
        "import argparse\n",
        "import glob\n",
        "import os\n",
        "import time\n",
        "import random\n",
        "import os\n",
        "import keras\n",
        "from keras.preprocessing import image\n",
        "from keras.applications.imagenet_utils import decode_predictions, preprocess_input\n",
        "from keras.models import Model\n",
        "import numpy as np\n",
        "import matplotlib.pyplot as plt\n",
        "from sklearn.decomposition import PCA\n",
        "\n",
        "\n",
        "# construct the argument parser and parse the arguments\n",
        "# ap = argparse.ArgumentParser()\n",
        "# ap.add_argument(\"-d\", \"--dataset\", required = True,\n",
        "# \thelp = \"Path to the directory that contains the images to be indexed\")\n",
        "# args = vars(ap.parse_args())\n",
        "\n",
        "\n",
        "\n",
        "\n",
        "# initialize the feature extractor\n",
        "feat_extractor = FeatureExtractor()\n",
        "\n",
        "\n",
        "\n",
        "images_path = 'sculptures'\n",
        "image_extensions = ['.jpg', '.png', '.jpeg']   # case-insensitive (upper/lower doesn't matter)\n",
        "max_num_images = 10000\n",
        "\n",
        "images = [os.path.join(dp, f) for dp, dn, filenames in os.walk(images_path) for f in filenames if os.path.splitext(f)[1].lower() in image_extensions]\n",
        "if max_num_images < len(images):\n",
        "    images = [images[i] for i in sorted(random.sample(xrange(len(images)), max_num_images))]\n",
        "\n",
        "\n",
        "tic = time.process_time()\n",
        "\n",
        "features = []\n",
        "for i, image_path in enumerate(images):\n",
        "    if i % 500 == 0:\n",
        "        toc = time.process_time()\n",
        "        elap = toc-tic;\n",
        "        print(\"analyzing image %d / %d. Time: %4.4f seconds.\" % (i, len(images),elap))\n",
        "        tic = time.process_time()\n",
        "    feat = feat_extractor.extract(image_path)\n",
        "    features.append(feat)\n",
        "    \n",
        "# features = np.array(features)    \n",
        "# pca = PCA(n_components=300)\n",
        "# pca.fit(features)\n",
        "# pca_features = pca.transform(features)\n",
        "\n",
        "pca_features,pca = feat_extractor.extract_pca_features(features)\n",
        "   "
      ],
      "execution_count": null,
      "outputs": [
        {
          "output_type": "stream",
          "text": [
            "hello\n",
            "Downloading data from https://storage.googleapis.com/tensorflow/keras-applications/vgg16/vgg16_weights_tf_dim_ordering_tf_kernels.h5\n",
            "553467904/553467096 [==============================] - 6s 0us/step\n",
            "analyzing image 0 / 3170. Time: 0.0002 seconds.\n",
            "analyzing image 500 / 3170. Time: 537.5972 seconds.\n",
            "analyzing image 1000 / 3170. Time: 541.1450 seconds.\n",
            "analyzing image 1500 / 3170. Time: 542.3734 seconds.\n",
            "analyzing image 2000 / 3170. Time: 540.5688 seconds.\n",
            "analyzing image 2500 / 3170. Time: 538.7149 seconds.\n",
            "analyzing image 3000 / 3170. Time: 541.2218 seconds.\n"
          ],
          "name": "stdout"
        }
      ]
    },
    {
      "cell_type": "code",
      "metadata": {
        "colab": {
          "base_uri": "https://localhost:8080/"
        },
        "id": "otmSTyF3FB8_",
        "outputId": "bfe81bdf-eac2-4d8f-fd61-6acc91b2f2d7"
      },
      "source": [
        "import pickle\n",
        "pickle.dump([images, pca_features, pca], open('/content/gdrive/My Drive/sculptures.p', 'wb'))\n",
        "\n",
        "print('finished extracting features for %d images' % len(images))"
      ],
      "execution_count": null,
      "outputs": [
        {
          "output_type": "stream",
          "text": [
            "finished extracting features for 3170 images\n"
          ],
          "name": "stdout"
        }
      ]
    }
  ]
}