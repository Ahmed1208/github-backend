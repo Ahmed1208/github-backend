{
 "cells": [
  {
   "cell_type": "code",
   "execution_count": null,
   "metadata": {},
   "outputs": [],
   "source": [
    "From modelAbstract import *"
   ]
  },
  {
   "cell_type": "code",
   "execution_count": null,
   "metadata": {},
   "outputs": [],
   "source": [
    "def init_interface(category_name=None):\n",
    "    init():\n",
    "    \n",
    "    if category_name is None:\n",
    "        #qurey to retrive all images' paths and their pca's\n",
    "        global images = ''\n",
    "        global pca_features = ''\n",
    "    else\n",
    "        #qurey to retrive all images' paths and their pca's according to category_name\n",
    "        global images = ''\n",
    "        global pca_features = ''"
   ]
  },
  {
   "cell_type": "code",
   "execution_count": null,
   "metadata": {},
   "outputs": [],
   "source": [
    "def upload_input_image(image_path):\n",
    "    pca_feature = upload(image_path)                #this will return pca_feature_vector of input image\n",
    "    retrive_similar_images(pca_feature)\n",
    "    display_result(results_image)"
   ]
  }
 ],
 "metadata": {
  "kernelspec": {
   "display_name": "Python 3",
   "language": "python",
   "name": "python3"
  },
  "language_info": {
   "codemirror_mode": {
    "name": "ipython",
    "version": 3
   },
   "file_extension": ".py",
   "mimetype": "text/x-python",
   "name": "python",
   "nbconvert_exporter": "python",
   "pygments_lexer": "ipython3",
   "version": "3.8.5"
  }
 },
 "nbformat": 4,
 "nbformat_minor": 4
}
