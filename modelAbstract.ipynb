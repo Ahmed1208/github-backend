{
 "cells": [
  {
   "cell_type": "code",
   "execution_count": null,
   "metadata": {},
   "outputs": [],
   "source": [
    "import os\n",
    "import keras\n",
    "from keras.preprocessing import image\n",
    "from keras.applications.imagenet_utils import decode_predictions, preprocess_input\n",
    "from keras.models import Model\n",
    "import numpy as np\n",
    "import matplotlib.pyplot as plt\n",
    "import time\n",
    "from sklearn.decomposition import PCA\n",
    "from scipy.spatial import distance\n",
    "import random\n",
    "from scipy.spatial import distance\n"
   ]
  },
  {
   "cell_type": "code",
   "execution_count": null,
   "metadata": {},
   "outputs": [],
   "source": [
    "images = []\n",
    "pca_features = []"
   ]
  },
  {
   "cell_type": "code",
   "execution_count": null,
   "metadata": {},
   "outputs": [],
   "source": [
    "def init():\n",
    "    model = keras.applications.VGG16(weights='imagenet', include_top=True)\n",
    "    feat_extractor = Model(inputs=model.input, outputs=model.get_layer(\"fc2\").output)\n",
    "\n",
    "def load_image(path):\n",
    "    img = image.load_img(path, target_size=model.input_shape[1:3])\n",
    "    x = image.img_to_array(img)\n",
    "    x = np.expand_dims(x, axis=0)\n",
    "    x = preprocess_input(x)\n",
    "    return img, x\n",
    "\n",
    "def get_closest_images(query_image_idx, num_results=10):\n",
    "    distances = [ distance.cosine(pca_features[query_image_idx], feat) for feat in pca_features ]\n",
    "    idx_closest = sorted(range(len(distances)), key=lambda k: distances[k])[1:num_results+1]\n",
    "    return idx_closest\n",
    "\n",
    "def get_concatenated_images(indexes, thumb_height):\n",
    "    thumbs = []\n",
    "    for idx in indexes:\n",
    "    img = image.load_img(images[idx])\n",
    "    img = img.resize((int(img.width * thumb_height / img.height), thumb_height))\n",
    "    thumbs.append(img)\n",
    "    print(images[idx])\n",
    "    concat_image = np.concatenate([np.asarray(t) for t in thumbs], axis=1)\n",
    "    return concat_image\n",
    "\n",
    "def display_query(query_image, query_image_idx):\n",
    "    plt.figure(figsize = (5,5))\n",
    "    plt.imshow(query_image)\n",
    "    plt.title(\"query image (%d)\" % query_image_idx)\n",
    "    \n",
    "def display_result(results_image):\n",
    "    plt.figure(figsize = (16,12))\n",
    "    plt.imshow(results_image)\n",
    "    plt.title(\"result images\")\n",
    "    \n",
    "def upload(image_path):    \n",
    "    # load image and extract features\n",
    "    new_image, x = load_image(image_path)\n",
    "    new_features = feat_extractor.predict(x)\n",
    "\n",
    "    # project it into pca space\n",
    "    new_pca_features = pca.transform(new_features)[0]\n",
    "    return new_pca_features\n",
    "\n",
    "def retrive_similar_images(new_pca_features):\n",
    "    # calculate its distance to all the other images pca feature vectors\n",
    "    distances = [ distance.cosine(new_pca_features, feat) for feat in pca_features ]\n",
    "    idx_closest = sorted(range(len(distances)), key=lambda k: distances[k])[0:5]  # grab first 5\n",
    "    results_image = get_concatenated_images(idx_closest, 200)\n",
    "    return results_image\n",
    "\n"
   ]
  }
 ],
 "metadata": {
  "kernelspec": {
   "display_name": "Python 3",
   "language": "python",
   "name": "python3"
  },
  "language_info": {
   "codemirror_mode": {
    "name": "ipython",
    "version": 3
   },
   "file_extension": ".py",
   "mimetype": "text/x-python",
   "name": "python",
   "nbconvert_exporter": "python",
   "pygments_lexer": "ipython3",
   "version": "3.8.5"
  }
 },
 "nbformat": 4,
 "nbformat_minor": 4
}
